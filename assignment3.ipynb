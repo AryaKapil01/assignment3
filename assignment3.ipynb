{
 "cells": [
  {
   "cell_type": "code",
   "execution_count": null,
   "id": "dd0a0550",
   "metadata": {},
   "outputs": [],
   "source": [
    "#1. Why are functions advantageous to have in your programs?\n",
    "\n",
    "\n",
    "    `The major advantage of function is the reusablity. Function reduce the need for duplicate code. This make program\n",
    "    shorter ,easier to read and easier to update.Function allow the same piece of code to run multiple times.Thus it \n",
    "    makes program shorter.Function can shared and use by other programers.Many built in fuctions available,it make \n",
    "    coding very eassy."
   ]
  },
  {
   "cell_type": "code",
   "execution_count": null,
   "id": "a7ecce23",
   "metadata": {},
   "outputs": [],
   "source": [
    "#2. When does the code in a function run: when it's specified or when it's called?\n",
    "    \n",
    "     Code in a fuction run while it's called"
   ]
  },
  {
   "cell_type": "code",
   "execution_count": null,
   "id": "78dc18a3",
   "metadata": {},
   "outputs": [],
   "source": [
    "#3. What statement creates a function?\n",
    "\n",
    "    def statement is used to difine a function.Sytax to create a fuction is below\n",
    "    \n",
    "    def function_name():\n",
    "        body of function"
   ]
  },
  {
   "cell_type": "code",
   "execution_count": null,
   "id": "b93eda73",
   "metadata": {},
   "outputs": [],
   "source": [
    "#4. What is the difference between a function and a function call?\n",
    "\n",
    "\n",
    "     Fuction means the reusable code we write.That is it include function defenition and fuction body.A function isprocedure\n",
    "    to achive a particular result while function call is using this function to achive that task .Fuction call\n",
    "    means in our main program or while writing a code , when we want to run a funtion, then we call that particular \n",
    "    fuction using function_name(). This process is called calling of function."
   ]
  },
  {
   "cell_type": "code",
   "execution_count": null,
   "id": "75010e81",
   "metadata": {},
   "outputs": [],
   "source": [
    "#5. How many global scopes are there in a Python program? How many local scopes?\n",
    "\n",
    "      There's only one global python scope per program execution .This scope remains in  existence until the the\n",
    "    program terminates and all it's names are forgotten.That is the scope of globalvariable is the entire program.\n",
    "      \n",
    "      A variable created  inside a fuction belong to the local scope of that function , and can only be used inside \n",
    "    that function.There is only one local scope in python\n",
    "     "
   ]
  },
  {
   "cell_type": "code",
   "execution_count": null,
   "id": "e02a54ca",
   "metadata": {},
   "outputs": [],
   "source": [
    "#6. What happens to variables in a local scope when the function call returns?\n",
    "    \n",
    "     When the execution of the function terminates (that is return a function), the local variable are destroyed.\n",
    "    After that we check that variale,then shows variable name not defined error.\n",
    "    \n",
    "    \n",
    "      "
   ]
  },
  {
   "cell_type": "code",
   "execution_count": null,
   "id": "9442bfab",
   "metadata": {},
   "outputs": [],
   "source": [
    "#7. What is the concept of a return value? Is it possible to have a return value in an expression?\n",
    "\n",
    "        While calling a fuction, then run the entire code in function , after complition of task the out put value is\n",
    "    return by the function to its called program is called return value.\n",
    "\n",
    "    Return value can use in expression . If return value is numeric , then we can use it in math expression or any\n",
    "    other kind of expression in which the value has a logical or coherent meaning.This is how a caller code can take\n",
    "    advantage of a function's return value."
   ]
  },
  {
   "cell_type": "code",
   "execution_count": null,
   "id": "c0bc0f45",
   "metadata": {},
   "outputs": [],
   "source": [
    "#8. If a function does not have a return statement, what is the return value of a call to that function?\n",
    "    \n",
    "      In python , every function return something . If there are no return statement , then it returns None.If the \n",
    "    return statement contains an expression, it's evaluated first and then the value is returned . The return \n",
    "    statement terminates the function execution."
   ]
  },
  {
   "cell_type": "code",
   "execution_count": null,
   "id": "aa08881b",
   "metadata": {},
   "outputs": [],
   "source": [
    "#9. How do you make a function variable refer to the global variable?\n",
    "      Normally , when we create a variable inside a function is local variable,and can only be used inside that\n",
    "    function.If you want to crate a global variable inside a function , you can use the global keyword ."
   ]
  },
  {
   "cell_type": "code",
   "execution_count": null,
   "id": "9498d03e",
   "metadata": {},
   "outputs": [],
   "source": [
    "#10. What is the data type of None?\n",
    "      The data type of none is NoneType.The None keyword is used to define a null value, or no value at all. \n",
    "    None is not the same as 0, False, or an empty string. None is a data type of its own (NoneType) and only None \n",
    "    can be None."
   ]
  },
  {
   "cell_type": "code",
   "execution_count": null,
   "id": "3ab33992",
   "metadata": {},
   "outputs": [],
   "source": [
    "#11. What does the sentence import areallyourpetsnamederic do?\n",
    "     It import a module named areallyourpetsnamederic."
   ]
  },
  {
   "cell_type": "code",
   "execution_count": null,
   "id": "6381538d",
   "metadata": {},
   "outputs": [],
   "source": [
    "#12. If you had a bacon() feature in a spam module, what would you call it after importing spam?\n",
    "    spam.bacon()"
   ]
  },
  {
   "cell_type": "code",
   "execution_count": null,
   "id": "0a1b09af",
   "metadata": {},
   "outputs": [],
   "source": [
    "#13. What can you do to save a programme from crashing if it encounters an error?\n",
    "      when it encouters an error , the control is passed to the except block , skipping the code in between.For that \n",
    "    purpose try and except block is use.Try running the program and it should throw an error message insted of \n",
    "    crashing the program.\n",
    "    "
   ]
  },
  {
   "cell_type": "code",
   "execution_count": null,
   "id": "77f34d1b",
   "metadata": {},
   "outputs": [],
   "source": [
    "#14. What is the purpose of the try clause? What is the purpose of the except clause?\n",
    "      The try block lets you test a block of code for errors. The except block lets you handle the error.That is if \n",
    "    try block gets an error then  the control is passed to except blok and that handle that error . Then program \n",
    "    save from crash."
   ]
  }
 ],
 "metadata": {
  "kernelspec": {
   "display_name": "Python 3 (ipykernel)",
   "language": "python",
   "name": "python3"
  },
  "language_info": {
   "codemirror_mode": {
    "name": "ipython",
    "version": 3
   },
   "file_extension": ".py",
   "mimetype": "text/x-python",
   "name": "python",
   "nbconvert_exporter": "python",
   "pygments_lexer": "ipython3",
   "version": "3.9.7"
  }
 },
 "nbformat": 4,
 "nbformat_minor": 5
}
